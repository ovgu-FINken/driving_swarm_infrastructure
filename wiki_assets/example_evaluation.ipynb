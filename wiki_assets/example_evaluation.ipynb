{
 "cells": [
  {
   "cell_type": "code",
   "execution_count": 1,
   "metadata": {},
   "outputs": [],
   "source": [
    "import pandas as pd\n",
    "from experiment_measurement.rosbag2df import read_rosbag_all_in_one\n",
    "from experiment_measurement.data_aggregation import aggregate_tables\n",
    "\n",
    "### change the following line according to what config you want to use\n",
    "from experiment_measurement.config.trajectory_follower_experiment import table_column_config"
   ]
  },
  {
   "cell_type": "code",
   "execution_count": 2,
   "metadata": {},
   "outputs": [],
   "source": [
    "# read data from sqlite db\n",
    "data = read_rosbag_all_in_one('/home/basti/ros/driving_swarm_infrastructure/rosbag2_2021_03_23-13_51_16/rosbag2_2021_03_23-13_51_16_0.db3')"
   ]
  },
  {
   "cell_type": "code",
   "execution_count": 3,
   "metadata": {},
   "outputs": [],
   "source": [
    "# create pandas dataframe from raw data\n",
    "tables = aggregate_tables(data['rosbag'], table_column_config, 10**9)"
   ]
  },
  {
   "cell_type": "code",
   "execution_count": 5,
   "metadata": {},
   "outputs": [],
   "source": [
    "# combine data for multiple robots into one dataframe\n",
    "for robot in tables.keys():\n",
    "    tables[robot]['robot'] = robot\n",
    "df = pd.concat(tables.values())"
   ]
  },
  {
   "cell_type": "code",
   "execution_count": 9,
   "metadata": {},
   "outputs": [
    {
     "data": {
      "text/html": [
       "<div>\n",
       "<style scoped>\n",
       "    .dataframe tbody tr th:only-of-type {\n",
       "        vertical-align: middle;\n",
       "    }\n",
       "\n",
       "    .dataframe tbody tr th {\n",
       "        vertical-align: top;\n",
       "    }\n",
       "\n",
       "    .dataframe thead th {\n",
       "        text-align: right;\n",
       "    }\n",
       "</style>\n",
       "<table border=\"1\" class=\"dataframe\">\n",
       "  <thead>\n",
       "    <tr style=\"text-align: right;\">\n",
       "      <th></th>\n",
       "      <th>timestamp</th>\n",
       "      <th>trans_vel</th>\n",
       "      <th>rot_vel</th>\n",
       "      <th>amcl_pose_x</th>\n",
       "      <th>amcl_pose_y</th>\n",
       "      <th>amcl_pose_theta</th>\n",
       "      <th>tf_pose_x</th>\n",
       "      <th>tf_pose_y</th>\n",
       "      <th>tf_pose_theta</th>\n",
       "      <th>amcl_traveled_distance</th>\n",
       "      <th>tf_traveled_distance</th>\n",
       "      <th>min_obstacle_dist</th>\n",
       "      <th>reached_goals</th>\n",
       "      <th>desired_x</th>\n",
       "      <th>desired_y</th>\n",
       "      <th>desired_theta</th>\n",
       "      <th>robot</th>\n",
       "    </tr>\n",
       "  </thead>\n",
       "  <tbody>\n",
       "    <tr>\n",
       "      <th>0</th>\n",
       "      <td>1616503877369818431</td>\n",
       "      <td>NaN</td>\n",
       "      <td>NaN</td>\n",
       "      <td>NaN</td>\n",
       "      <td>NaN</td>\n",
       "      <td>NaN</td>\n",
       "      <td>NaN</td>\n",
       "      <td>NaN</td>\n",
       "      <td>NaN</td>\n",
       "      <td>0.0</td>\n",
       "      <td>0.000000</td>\n",
       "      <td>NaN</td>\n",
       "      <td>0</td>\n",
       "      <td>NaN</td>\n",
       "      <td>NaN</td>\n",
       "      <td>NaN</td>\n",
       "      <td>robot1</td>\n",
       "    </tr>\n",
       "    <tr>\n",
       "      <th>1</th>\n",
       "      <td>1616503878369818431</td>\n",
       "      <td>NaN</td>\n",
       "      <td>NaN</td>\n",
       "      <td>NaN</td>\n",
       "      <td>NaN</td>\n",
       "      <td>NaN</td>\n",
       "      <td>NaN</td>\n",
       "      <td>NaN</td>\n",
       "      <td>NaN</td>\n",
       "      <td>0.0</td>\n",
       "      <td>0.000000</td>\n",
       "      <td>NaN</td>\n",
       "      <td>0</td>\n",
       "      <td>NaN</td>\n",
       "      <td>NaN</td>\n",
       "      <td>NaN</td>\n",
       "      <td>robot1</td>\n",
       "    </tr>\n",
       "    <tr>\n",
       "      <th>2</th>\n",
       "      <td>1616503879369818431</td>\n",
       "      <td>0.0</td>\n",
       "      <td>0.0</td>\n",
       "      <td>NaN</td>\n",
       "      <td>NaN</td>\n",
       "      <td>NaN</td>\n",
       "      <td>NaN</td>\n",
       "      <td>NaN</td>\n",
       "      <td>NaN</td>\n",
       "      <td>0.0</td>\n",
       "      <td>0.000000</td>\n",
       "      <td>NaN</td>\n",
       "      <td>0</td>\n",
       "      <td>NaN</td>\n",
       "      <td>NaN</td>\n",
       "      <td>NaN</td>\n",
       "      <td>robot1</td>\n",
       "    </tr>\n",
       "    <tr>\n",
       "      <th>3</th>\n",
       "      <td>1616503880369818431</td>\n",
       "      <td>0.0</td>\n",
       "      <td>0.0</td>\n",
       "      <td>0.15</td>\n",
       "      <td>1.05</td>\n",
       "      <td>3.0</td>\n",
       "      <td>NaN</td>\n",
       "      <td>NaN</td>\n",
       "      <td>NaN</td>\n",
       "      <td>0.0</td>\n",
       "      <td>0.000000</td>\n",
       "      <td>0.228104</td>\n",
       "      <td>0</td>\n",
       "      <td>NaN</td>\n",
       "      <td>NaN</td>\n",
       "      <td>NaN</td>\n",
       "      <td>robot1</td>\n",
       "    </tr>\n",
       "    <tr>\n",
       "      <th>4</th>\n",
       "      <td>1616503881369818431</td>\n",
       "      <td>0.0</td>\n",
       "      <td>0.0</td>\n",
       "      <td>NaN</td>\n",
       "      <td>NaN</td>\n",
       "      <td>NaN</td>\n",
       "      <td>0.149317</td>\n",
       "      <td>1.050024</td>\n",
       "      <td>3.000342</td>\n",
       "      <td>0.0</td>\n",
       "      <td>0.000042</td>\n",
       "      <td>0.219228</td>\n",
       "      <td>0</td>\n",
       "      <td>NaN</td>\n",
       "      <td>NaN</td>\n",
       "      <td>NaN</td>\n",
       "      <td>robot1</td>\n",
       "    </tr>\n",
       "  </tbody>\n",
       "</table>\n",
       "</div>"
      ],
      "text/plain": [
       "             timestamp  trans_vel  rot_vel  amcl_pose_x  amcl_pose_y  \\\n",
       "0  1616503877369818431        NaN      NaN          NaN          NaN   \n",
       "1  1616503878369818431        NaN      NaN          NaN          NaN   \n",
       "2  1616503879369818431        0.0      0.0          NaN          NaN   \n",
       "3  1616503880369818431        0.0      0.0         0.15         1.05   \n",
       "4  1616503881369818431        0.0      0.0          NaN          NaN   \n",
       "\n",
       "   amcl_pose_theta  tf_pose_x  tf_pose_y  tf_pose_theta  \\\n",
       "0              NaN        NaN        NaN            NaN   \n",
       "1              NaN        NaN        NaN            NaN   \n",
       "2              NaN        NaN        NaN            NaN   \n",
       "3              3.0        NaN        NaN            NaN   \n",
       "4              NaN   0.149317   1.050024       3.000342   \n",
       "\n",
       "   amcl_traveled_distance  tf_traveled_distance  min_obstacle_dist  \\\n",
       "0                     0.0              0.000000                NaN   \n",
       "1                     0.0              0.000000                NaN   \n",
       "2                     0.0              0.000000                NaN   \n",
       "3                     0.0              0.000000           0.228104   \n",
       "4                     0.0              0.000042           0.219228   \n",
       "\n",
       "   reached_goals  desired_x  desired_y  desired_theta   robot  \n",
       "0              0        NaN        NaN            NaN  robot1  \n",
       "1              0        NaN        NaN            NaN  robot1  \n",
       "2              0        NaN        NaN            NaN  robot1  \n",
       "3              0        NaN        NaN            NaN  robot1  \n",
       "4              0        NaN        NaN            NaN  robot1  "
      ]
     },
     "execution_count": 9,
     "metadata": {},
     "output_type": "execute_result"
    }
   ],
   "source": [
    "# here is the dataframe\n",
    "df.head()"
   ]
  },
  {
   "cell_type": "code",
   "execution_count": 8,
   "metadata": {},
   "outputs": [
    {
     "data": {
      "text/plain": [
       "<matplotlib.axes._subplots.AxesSubplot at 0x7f8c18c88250>"
      ]
     },
     "execution_count": 8,
     "metadata": {},
     "output_type": "execute_result"
    },
    {
     "data": {
      "image/png": "[encoded data removed]",
      "text/plain": [
       "<Figure size 432x288 with 1 Axes>"
      ]
     },
     "metadata": {
      "needs_background": "light"
     },
     "output_type": "display_data"
    }
   ],
   "source": [
    "# work with the data (i.e. visualize the path)\n",
    "import seaborn as sns\n",
    "sns.scatterplot(data=df, x='tf_pose_x', y='tf_pose_y', hue='robot')"
   ]
  },
  {
   "cell_type": "code",
   "execution_count": null,
   "metadata": {},
   "outputs": [],
   "source": []
  }
 ],
 "metadata": {
  "kernelspec": {
   "display_name": "Python 3",
   "language": "python",
   "name": "python3"
  },
  "language_info": {
   "codemirror_mode": {
    "name": "ipython",
    "version": 3
   },
   "file_extension": ".py",
   "mimetype": "text/x-python",
   "name": "python",
   "nbconvert_exporter": "python",
   "pygments_lexer": "ipython3",
   "version": "3.8.5"
  }
 },
 "nbformat": 4,
 "nbformat_minor": 4
}
