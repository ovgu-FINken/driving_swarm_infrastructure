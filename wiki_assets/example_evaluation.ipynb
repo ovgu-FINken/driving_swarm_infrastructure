{
 "cells": [
  {
   "cell_type": "code",
   "execution_count": 3,
   "id": "possible-making",
   "metadata": {},
   "outputs": [],
   "source": [
    "import sys \n",
    "sys.path.append('/opt/ros/foxy/lib/python3.8/site-packages')\n",
    "sys.path.append('/home/traichel/DrivingSwarm/driving_swarm_infrastructure/src/experiment_measurement/experiment_measurement')"
   ]
  },
  {
   "cell_type": "code",
   "execution_count": 4,
   "id": "periodic-clarity",
   "metadata": {},
   "outputs": [],
   "source": [
    "import jupyros as jr\n",
    "import pandas as pd\n",
    "import sqlite3\n",
    "# ROS\n",
    "import rclpy\n",
    "import tf2_ros\n",
    "from experiment_measurement.rosbag2df import read_rosbag_all_in_one\n",
    "from experiment_measurement.data_aggregation import aggregate_tables\n",
    "import experiment_measurement"
   ]
  },
  {
   "cell_type": "code",
   "execution_count": null,
   "id": "fifty-columbus",
   "metadata": {},
   "outputs": [],
   "source": [
    "############### read data from rosbag-database #################"
   ]
  },
  {
   "cell_type": "code",
   "execution_count": 5,
   "id": "extreme-rhythm",
   "metadata": {},
   "outputs": [],
   "source": [
    "#/home/traichel/exp_data/base_exp_sim\n",
    "data_dict1 = read_rosbag_all_in_one('/home/traichel/exp_data/base_exp_sim/rosbag2_2021_03_16-12_36_02/rosbag2_2021_03_16-12_36_02_0.db3')"
   ]
  },
  {
   "cell_type": "code",
   "execution_count": null,
   "id": "thrown-vegetation",
   "metadata": {},
   "outputs": [],
   "source": [
    "################# data aggregation on robot level ########################"
   ]
  },
  {
   "cell_type": "code",
   "execution_count": 6,
   "id": "undefined-pitch",
   "metadata": {},
   "outputs": [],
   "source": [
    "config = \"flocking_robots\"\n",
    "data_aggregation = __import__(\"config.\" + config, fromlist=[None])"
   ]
  },
  {
   "cell_type": "code",
   "execution_count": 7,
   "id": "preliminary-favor",
   "metadata": {},
   "outputs": [],
   "source": [
    "df1 = aggregate_tables(data_dict1['rosbag'], data_aggregation.table_column_config, 10**9)"
   ]
  },
  {
   "cell_type": "code",
   "execution_count": null,
   "id": "composed-benjamin",
   "metadata": {},
   "outputs": [],
   "source": [
    "################## data aggregation on swarm level ##########################"
   ]
  },
  {
   "cell_type": "code",
   "execution_count": 8,
   "id": "adopted-lewis",
   "metadata": {},
   "outputs": [
    {
     "name": "stdout",
     "output_type": "stream",
     "text": [
      "218\n"
     ]
    }
   ],
   "source": [
    "print(len(df1['robot1']))"
   ]
  }
 ],
 "metadata": {
  "kernelspec": {
   "display_name": "Python 3",
   "language": "python",
   "name": "python3"
  },
  "language_info": {
   "codemirror_mode": {
    "name": "ipython",
    "version": 3
   },
   "file_extension": ".py",
   "mimetype": "text/x-python",
   "name": "python",
   "nbconvert_exporter": "python",
   "pygments_lexer": "ipython3",
   "version": "3.8.5"
  }
 },
 "nbformat": 4,
 "nbformat_minor": 5
}
