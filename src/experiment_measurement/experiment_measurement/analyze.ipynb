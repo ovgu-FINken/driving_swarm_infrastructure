{
 "cells": [
  {
   "cell_type": "code",
   "execution_count": 33,
   "id": "adeb9bb6-fd46-4775-8422-d167ed978d39",
   "metadata": {},
   "outputs": [],
   "source": [
    "import matplotlib.pyplot as plt\n",
    "import numpy as np\n",
    "import os\n",
    "import pandas as pd\n",
    "from experiment_measurement.rosbag2df import read_rosbag_all_in_one\n",
    "from experiment_measurement.data_aggregation import aggregate_tables\n",
    "from driving_swarm_utils.node import DrivingSwarmNode, main_fn\n",
    "from polygonal_roadmaps import geometry, environment\n",
    "import geopandas as gpd\n",
    "from visualization_msgs.msg import MarkerArray, Marker\n",
    "from geometry_msgs.msg import Point, PoseStamped\n",
    "from nav_msgs.msg import Path\n",
    "from std_msgs.msg import ColorRGBA, Int32, Int32MultiArray, String\n",
    "from std_srvs.srv import Empty\n",
    "from driving_swarm_messages.srv import SaveToFile, UpdateTrajectory\n",
    "from sensor_msgs.msg import LaserScan\n",
    "from trajectory_generator.vehicle_model_node import TrajectoryGenerator, Vehicle\n",
    "import numpy as np\n",
    "import rclpy\n",
    "from shapely import Polygon, simplify, LineString\n",
    "from shapely import Point as ShapelyPoint\n",
    "from math import atan2, degrees\n",
    "import shapely\n",
    "### change the following line according to what config you want to use\n",
    "from experiment_measurement.config.trajectory_follower_experiment import table_column_config\n",
    "import warnings\n",
    "import yaml"
   ]
  },
  {
   "cell_type": "code",
   "execution_count": 34,
   "id": "e650976e-2b4f-4d39-9e9b-a8df27fe53c0",
   "metadata": {},
   "outputs": [],
   "source": [
    "suppress_warnings_list = [\n",
    "    {\n",
    "        \"category\": RuntimeWarning,\n",
    "        \"module\": \"shapely\\.linear\",\n",
    "        \"message\": \"invalid value encountered in shared_paths\"\n",
    "    },\n",
    "    {\n",
    "        \"category\": RuntimeWarning,\n",
    "        \"module\": \"shapely\\.predicates\",\n",
    "        \"message\": \"invalid value encountered in touches\"\n",
    "    },\n",
    "    {\n",
    "        \"category\": UserWarning,\n",
    "        \"module\": \"geopandas\\.plotting\",\n",
    "        \"message\": \"The GeoSeries you are attempting to plot is empty. Nothing has been displayed.\"\n",
    "    }\n",
    "]\n",
    "\n",
    "# Apply filter for each warning\n",
    "for warning_detail in suppress_warnings_list:\n",
    "    warnings.filterwarnings(\n",
    "        \"ignore\",\n",
    "        category=warning_detail[\"category\"],\n",
    "        module=warning_detail[\"module\"],\n",
    "        message=warning_detail[\"message\"]\n",
    "    )\n"
   ]
  },
  {
   "cell_type": "code",
   "execution_count": 35,
   "id": "5b1e2b73-86b5-4969-b7c9-c636e400eac1",
   "metadata": {},
   "outputs": [],
   "source": [
    "n = 10\n",
    "\n",
    "with open(\"/home/yuceel/ItR/tutorials/src/driving_swarm_infrastructure/src/driving_swarm_bringup/params/icra2024_waypoints.yaml\", 'r') as file:\n",
    "    waypoints_data = yaml.safe_load(file)\n",
    "\n",
    "# Extract start and end positions, but only for the first n waypoints\n",
    "starts = [item['waypoints'][0][:2] for item in waypoints_data[:n]]\n",
    "ends = [item['waypoints'][1][:2] for item in waypoints_data[:n]]"
   ]
  },
  {
   "cell_type": "code",
   "execution_count": 36,
   "id": "f60d0309-9098-40d9-a3db-e4845067ec0d",
   "metadata": {},
   "outputs": [],
   "source": [
    "def get_db3_files_in_folders(directory):\n",
    "    db3_files = []\n",
    "    # Iterate through immediate subdirectories\n",
    "    for subdir in next(os.walk(directory))[1]:\n",
    "        subdir_path = os.path.join(directory, subdir)\n",
    "\n",
    "        # Iterate through files in the subdirectory\n",
    "        for filename in os.listdir(subdir_path):\n",
    "            if filename.endswith(\".db3\"):\n",
    "                db3_files.append(os.path.join(subdir_path, filename))\n",
    "\n",
    "    return db3_files"
   ]
  },
  {
   "cell_type": "code",
   "execution_count": 37,
   "id": "aed82eaa-c874-4710-b2da-5b26360385ac",
   "metadata": {},
   "outputs": [],
   "source": [
    "directory = '/home/yuceel/ItR/tutorials'\n",
    "db3_files = get_db3_files_in_folders(directory)"
   ]
  },
  {
   "cell_type": "code",
   "execution_count": 38,
   "id": "a4b2db8a-58ac-4e47-a2cc-f0de434d49b9",
   "metadata": {},
   "outputs": [
    {
     "data": {
      "text/plain": [
       "['/home/yuceel/ItR/tutorials/rosbag_10 robots_2023-09-04_11:06:09/rosbag_10 robots_2023-09-04_11:06:09_0.db3',\n",
       " '/home/yuceel/ItR/tutorials/rosbag_9 robots_2023-09-04_11:35:24/rosbag_9 robots_2023-09-04_11:35:24_0.db3']"
      ]
     },
     "execution_count": 38,
     "metadata": {},
     "output_type": "execute_result"
    }
   ],
   "source": [
    "db3_files"
   ]
  },
  {
   "cell_type": "code",
   "execution_count": null,
   "id": "1f90692b-3f3e-4c06-9b32-d6de90360ca4",
   "metadata": {},
   "outputs": [
    {
     "name": "stdout",
     "output_type": "stream",
     "text": [
      "found topics for namespaces: {'turtlebot11', 'turtlebot6', 'turtlebot10', 'turtlebot7', 'turtlebot12', 'turtlebot5', 'turtlebot8', 'turtlebot3', 'turtlebot1', 'turtlebot13'}\n"
     ]
    }
   ],
   "source": [
    "# Initialize a counter for the experiment number\n",
    "experiment_number = 1\n",
    "dfs = {}\n",
    "robots = []\n",
    "# read data from sqlite db\n",
    "data = read_rosbag_all_in_one(db3_files[0])\n",
    "\n",
    "# create pandas dataframe from raw data\n",
    "tables = aggregate_tables(data['rosbag'], table_column_config, 10**9)\n",
    "\n",
    "# combine data for multiple robots into one dataframe\n",
    "for robot in tables.keys():\n",
    "    tables[robot]['robot'] = robot\n",
    "    robots.append(robot)\n",
    "    \n",
    "combined_df = pd.concat(tables.values()).reset_index(drop=True)\n",
    "\n",
    "initial_timestamp = combined_df['timestamp'].iloc[0]\n",
    "combined_df['timestamp'] = (combined_df['timestamp'] - initial_timestamp) / 10**9\n",
    "\n",
    "# Add the experiment number column\n",
    "combined_df['experiment_number'] = experiment_number\n",
    "\n",
    "# Store the resulting dataframe in the dfs dictionary\n",
    "dfs[os.path.basename(db3_file)] = combined_df\n",
    "\n",
    "# Increment the experiment number for the next iteration\n",
    "experiment_number += 1"
   ]
  },
  {
   "cell_type": "code",
   "execution_count": null,
   "id": "86203240-c6cc-4c26-b495-d51fb781afd3",
   "metadata": {},
   "outputs": [],
   "source": []
  },
  {
   "cell_type": "code",
   "execution_count": 7,
   "id": "e4f4a71e-41f2-4e7f-bfb3-4a12c69dfb84",
   "metadata": {},
   "outputs": [],
   "source": [
    "class map_loader_without_ros:\n",
    "    def __init__(self):\n",
    "        # Simulating parameter declarations and assignments without ROS\n",
    "        self.parameters = {\n",
    "        'graph_file': '/home/yuceel/ItR/tutorials/src/driving_swarm_infrastructure/src/driving_swarm_bringup/maps/icra2024.yaml',\n",
    "        'x_min': -2.25,\n",
    "        'x_max': 2.75,\n",
    "        'y_min': -1.75,\n",
    "        'y_max': 1.25,\n",
    "        'grid_type': 'square',\n",
    "        'grid_size': 0.5,\n",
    "        'inflation_size': 0.1,\n",
    "        'laser_inflation_size': 0.15,\n",
    "        'vehicle_model': 3,\n",
    "        'step_size': 0.1,\n",
    "        'turn_speed': 0.5,\n",
    "        'inertia': 0.01,\n",
    "        'belief_lifetime': 15.0,\n",
    "        'belief_lifetime_variability': 2.0,\n",
    "        'horizon': 5,\n",
    "        'wait_cost': 1.01,\n",
    "            \n",
    "        }\n",
    "\n",
    "        map_file = self.get_parameter('graph_file')\n",
    "        print(f\"map_file value: {map_file}\")  # print the value of map_file\n",
    "\n",
    "        if map_file.endswith(\".yaml\"):\n",
    "            grid_size = self.get_parameter('grid_size')\n",
    "            tiling = self.get_parameter('grid_type')\n",
    "            print(f\"tiling value: {tiling}\")  # print the value of tiling\n",
    "            \n",
    "            wx = (self.get_parameter('x_min'), self.get_parameter('x_max'))\n",
    "            wy = (self.get_parameter('y_min'), self.get_parameter('y_max'))\n",
    "\n",
    "            points = None\n",
    "            if tiling == 'hex':\n",
    "                points = geometry.hexagon_tiling(grid_size, working_area_x=wx, working_area_y=wy)\n",
    "            elif tiling == 'square':\n",
    "                points = geometry.square_tiling(grid_size, working_area_x=wx, working_area_y=wy)\n",
    "            elif tiling == 'random':\n",
    "                points = geometry.random_tiling(50, working_area_x=wx, working_area_y=wy)\n",
    "            else:\n",
    "                print('no tiling specified, using hex')\n",
    "                points = geometry.hexagon_tiling(grid_size, working_area_x=wx, working_area_y=wy)\n",
    "\n",
    "            assert points is not None\n",
    "\n",
    "            self.env = environment.RoadmapEnvironment(map_file,\n",
    "                                                       None,\n",
    "                                                       None,\n",
    "                                                       generator_points=points,\n",
    "                                                       wx=wx,\n",
    "                                                       wy=wy,\n",
    "                                                       offset=self.get_parameter('inflation_size'))\n",
    "\n",
    "        else:\n",
    "            print(\"map_file does not end with .yaml\")\n",
    "\n",
    "    def get_parameter(self, key):\n",
    "        return self.parameters.get(key, None)\n"
   ]
  },
  {
   "cell_type": "code",
   "execution_count": 19,
   "id": "8e2b23d3-4ffa-4a43-9b15-f59dfb66deb8",
   "metadata": {},
   "outputs": [],
   "source": [
    "def plot_map_with_waypoints(environment, starts, ends, show=False, paths=None):\n",
    "    plt.figure(figsize=(6.66,4))  # Adjust the size of the figure here\n",
    "    \n",
    "    inner = gpd.GeoSeries(n['geometry'].inner for _, n in environment.g.nodes(data=True))\n",
    "    inner.plot(ax=plt.gca(), alpha=0.1)\n",
    "\n",
    "    connection = gpd.GeoSeries(e['geometry'].connection for _, _, e in environment.g.edges(data=True))\n",
    "    connection.plot(ax=plt.gca(),alpha=0.1)\n",
    "\n",
    "    obstacles = gpd.GeoSeries([environment._obstacles])\n",
    "    obstacles.plot(ax=plt.gca(), color='gray')\n",
    "    \n",
    "    # Generating a list of unique colors for each robot (couple)\n",
    "    colors = plt.cm.jet(np.linspace(0, 1, len(starts)))\n",
    "\n",
    "    # for i, ((start_x, start_y), (end_x, end_y)) in enumerate(zip(starts, ends)):\n",
    "    #     # Plotting start position\n",
    "    #     start_point = gpd.GeoSeries([geometry.Point(start_x, start_y)])\n",
    "    #     start_point.plot(ax=plt.gca(), color=colors[i],markersize=100 ,marker='o')\n",
    "        \n",
    "    #     # Plotting end position\n",
    "    #     end_point = gpd.GeoSeries([geometry.Point(end_x, end_y)])\n",
    "    #     end_point.plot(ax=plt.gca(), color=colors[i],markersize=100, marker='x')\n",
    "    plt.xlabel('x (m)')\n",
    "    plt.ylabel('y (m)')\n",
    "    \n",
    "    if paths is not None:\n",
    "        for path in paths:\n",
    "            path = gpd.GeoSeries([environment.g.nodes()[n]['geometry'].center for n in path if n is not None])\n",
    "            path.plot(ax=plt.gca(), color='blue')\n",
    "\n",
    "    if show:\n",
    "        plt.show()\n",
    "        plt.close()\n",
    "    else:\n",
    "        return plt.gcf(), plt.gca()  # Return the current figure and axis\n"
   ]
  },
  {
   "cell_type": "code",
   "execution_count": 20,
   "id": "b392b820-0a14-4121-b9ad-45154d873bd8",
   "metadata": {},
   "outputs": [
    {
     "name": "stdout",
     "output_type": "stream",
     "text": [
      "map_file value: /home/yuceel/ItR/tutorials/src/driving_swarm_infrastructure/src/driving_swarm_bringup/maps/icra2024.yaml\n",
      "tiling value: square\n"
     ]
    },
    {
     "data": {
      "image/png": "[encoded data removed]",
      "text/plain": [
       "<Figure size 666x400 with 1 Axes>"
      ]
     },
     "metadata": {},
     "output_type": "display_data"
    }
   ],
   "source": [
    "import matplotlib.pyplot as plt\n",
    "import seaborn as sns\n",
    "import numpy as np\n",
    "import geopandas as gpd\n",
    "\n",
    "map_obj_without_ros = map_loader_without_ros()\n",
    "map_obj_without_ros.env._start_positions = []\n",
    "map_obj_without_ros.env._goal_positions = []\n",
    "\n",
    "fig, ax = plot_map_with_waypoints(map_obj_without_ros.env, starts, ends)  # Here we're capturing the returned figure and axis\n",
    "\n",
    "# Function to compute distance between points\n",
    "def distance(point1, point2):\n",
    "    return np.sqrt((point1[0] - point2[0])**2 + (point1[1] - point2[1])**2)\n",
    "\n",
    "# Function to filter data points\n",
    "def filter_points(df, omit_points, threshold=0.15):\n",
    "    to_keep = np.ones(len(df), dtype=bool)\n",
    "    \n",
    "    for x, y in omit_points:\n",
    "        distances = df.apply(lambda row: distance((row['tf_pose_x'], row['tf_pose_y']), (x, y)), axis=1)\n",
    "        to_keep = np.logical_and(to_keep, distances > threshold)\n",
    "        \n",
    "    return df[to_keep]\n",
    "\n",
    "# # Generate heatmap function\n",
    "# def generate_heatmap(dataframe, ax):  # Note the new ax parameter\n",
    "#     sns.kdeplot(data=dataframe, x='tf_pose_x', y='tf_pose_y', cmap=\"coolwarm\", fill=True, bw_method='silverman', alpha=0.5, ax=ax)\n",
    "#     ax.set_title('Heatmap of Robot Locations on Map')\n",
    "#     ax.set_xlabel('X Location')\n",
    "#     ax.set_ylabel('Y Location')\n",
    "\n",
    "\n",
    "# # Assuming 'dfs' is your dictionary of dataframes\n",
    "# for key, dataframe in dfs.items():\n",
    "#     print(f\"Heatmap for {key}:\")\n",
    "#     generate_heatmap(dataframe, ax=ax)\n",
    "plt.savefig('my_plot.pdf')\n",
    "plt.show()\n"
   ]
  },
  {
   "cell_type": "code",
   "execution_count": null,
   "id": "221c998b-b67a-40e3-86f7-39fc3ba1d892",
   "metadata": {},
   "outputs": [],
   "source": []
  },
  {
   "cell_type": "code",
   "execution_count": 10,
   "id": "2e10aa0b-3ec0-45ab-9ee9-52ca0e8f2cac",
   "metadata": {},
   "outputs": [],
   "source": [
    "# # work with the data (i.e. visualize the path)\n",
    "# import seaborn as sns\n",
    "# for key, dataframe in dfs.items():\n",
    "#     sns.scatterplot(data=dataframe, x='tf_pose_x', y='tf_pose_y', hue='timestamp', style='robot')"
   ]
  },
  {
   "cell_type": "code",
   "execution_count": 9,
   "id": "c4afcac2-5bdc-4b4f-b3d9-95379dbee369",
   "metadata": {},
   "outputs": [
    {
     "name": "stdout",
     "output_type": "stream",
     "text": [
      "Robot turtlebot5:\n",
      "Overall Average Time: 71.25 seconds\n",
      "\n",
      "Robot turtlebot1:\n",
      "Overall Average Time: 64.25 seconds\n",
      "\n"
     ]
    }
   ],
   "source": [
    "point_A = {'x': -0.5, 'y': 0.5}\n",
    "point_B = {'x': 2.0, 'y': -1.5}\n",
    "\n",
    "distance_threshold = 0.3 \n",
    "\n",
    "df['distance_to_A'] = np.sqrt((df['tf_pose_x'] - point_A['x'])**2 + (df['tf_pose_y'] - point_A['y'])**2)\n",
    "df['distance_to_B'] = np.sqrt((df['tf_pose_x'] - point_B['x'])**2 + (df['tf_pose_y'] - point_B['y'])**2)\n",
    "\n",
    "robot_transition_flags = {robot: {'A_to_B': False, 'B_to_A': False} for robot in tables.keys()}\n",
    "robot_time_differences = {robot: {'A_to_B': [], 'B_to_A': []} for robot in tables.keys()}\n",
    "\n",
    "for robot, robot_df in df.groupby('robot'):\n",
    "    for index, row in robot_df.iterrows():\n",
    "        if row['distance_to_B'] <= distance_threshold and not robot_transition_flags[robot]['A_to_B'] and not robot_transition_flags[robot]['B_to_A']:\n",
    "            robot_transition_flags[robot]['A_to_B'] = True\n",
    "            robot_transition_flags[robot]['B_to_A'] = False\n",
    "            last_transition_time = row['timestamp']\n",
    "        elif row['distance_to_A'] <= distance_threshold and not robot_transition_flags[robot]['B_to_A'] and not robot_transition_flags[robot]['A_to_B']:\n",
    "            robot_transition_flags[robot]['B_to_A'] = True\n",
    "            robot_transition_flags[robot]['A_to_B'] = False\n",
    "            last_transition_time = row['timestamp']\n",
    "        elif robot_transition_flags[robot]['A_to_B'] and row['distance_to_A'] <= distance_threshold:\n",
    "            robot_time_differences[robot]['A_to_B'].append(row['timestamp'] - last_transition_time)\n",
    "            robot_transition_flags[robot]['A_to_B'] = False\n",
    "        elif robot_transition_flags[robot]['B_to_A'] and row['distance_to_B'] <= distance_threshold:\n",
    "            robot_time_differences[robot]['B_to_A'].append(row['timestamp'] - last_transition_time)\n",
    "            robot_transition_flags[robot]['B_to_A'] = False\n",
    "\n",
    "for robot in tables.keys():\n",
    "    avg_time_A_to_B = np.mean(robot_time_differences[robot]['A_to_B'])\n",
    "    avg_time_B_to_A = np.mean(robot_time_differences[robot]['B_to_A'])\n",
    "    overall_avg_time = (avg_time_A_to_B + avg_time_B_to_A) / 2\n",
    "    print(f\"Robot {robot}:\")\n",
    "    print(f\"Overall Average Time: {overall_avg_time:.2f} seconds\")\n",
    "    print()\n"
   ]
  },
  {
   "cell_type": "code",
   "execution_count": 15,
   "id": "63aa1a8a-6fc7-4091-bd96-c7f558cec53a",
   "metadata": {},
   "outputs": [
    {
     "name": "stdout",
     "output_type": "stream",
     "text": [
      "Index(['timestamp', 'trans_vel', 'rot_vel', 'amcl_pose_x', 'amcl_pose_y',\n",
      "       'amcl_pose_theta', 'tf_pose_x', 'tf_pose_y', 'tf_pose_theta',\n",
      "       'amcl_traveled_distance', 'tf_traveled_distance', 'min_obstacle_dist',\n",
      "       'reached_goals', 'desired_x', 'desired_y', 'desired_theta', 'command',\n",
      "       'status', 'scan_delay', 'goal_count', 'robot', 'experiment_number'],\n",
      "      dtype='object')\n"
     ]
    }
   ],
   "source": [
    "for key, dataframe in dfs.items():\n",
    "    print(dataframe.columns)"
   ]
  },
  {
   "cell_type": "code",
   "execution_count": null,
   "id": "2f5624f0-8e45-4638-ab02-d6b611822c9d",
   "metadata": {},
   "outputs": [],
   "source": []
  }
 ],
 "metadata": {
  "kernelspec": {
   "display_name": "Python 3 (ipykernel)",
   "language": "python",
   "name": "python3"
  },
  "language_info": {
   "codemirror_mode": {
    "name": "ipython",
    "version": 3
   },
   "file_extension": ".py",
   "mimetype": "text/x-python",
   "name": "python",
   "nbconvert_exporter": "python",
   "pygments_lexer": "ipython3",
   "version": "3.10.6"
  }
 },
 "nbformat": 4,
 "nbformat_minor": 5
}
